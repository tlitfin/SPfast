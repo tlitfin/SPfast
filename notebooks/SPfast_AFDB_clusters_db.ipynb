{
  "cells": [
    {
      "cell_type": "code",
      "execution_count": 1,
      "metadata": {
        "cellView": "form",
        "id": "rpGjK4CxJsm1"
      },
      "outputs": [],
      "source": [
        "#@title 1. Install Dependencies (~1 min)\n",
        "%%capture\n",
        "![ ! -d SPfast ] && git clone https://github.com/tlitfin/SPfast.git\n",
        "%pip install pybind11\n",
        "%pip install itables\n",
        "!cd SPfast/src && make gnu\n",
        "%pip install -e SPfast/\n",
        "%pip install biopython\n",
        "![ ! -f mkdssp-4.4.0-linux-x64 ] && wget https://github.com/PDB-REDO/dssp/releases/download/v4.4.0/mkdssp-4.4.0-linux-x64 && chmod +x mkdssp-4.4.0-linux-x64"
      ]
    },
    {
      "cell_type": "code",
      "execution_count": 2,
      "metadata": {
        "cellView": "form",
        "id": "-lmJHHf3F-f_"
      },
      "outputs": [],
      "source": [
        "#@title 2. Download AFDB-clusters SPfast structure files (~8 min)\n",
        "%%capture\n",
        "!wget https://spfast.tomlitfin.workers.dev/afdb-clu.db.tar.gz\n",
        "!tar xvf afdb-clu.db.tar.gz && rm afdb-clu.db.tar.gz"
      ]
    },
    {
      "cell_type": "code",
      "execution_count": 7,
      "metadata": {
        "cellView": "form",
        "id": "QszEOBiiNv2U"
      },
      "outputs": [],
      "source": [
        "#@title 3. Select parameters for SPfast search\n",
        "#%%capture # Can't capture with file-upload\n",
        "from google.colab import files\n",
        "from pathlib import Path\n",
        "\n",
        "UniProt_ID = \"A0A0F2PPL2\" # @param {type:\"string\"}\n",
        "#@markdown **OR**\n",
        "PDB_ID = \"\" # @param {type:\"string\"}\n",
        "Chain = \"\" # @param {type:\"string\"}\n",
        "#@markdown - Leave ID fields blank for custom **monomer** upload in PDB format\n",
        "#@markdown  - The *first* chain will be extracted from a multi-chain query\n",
        "Optimization_objective = 'SPfscore' # @param [\"SPfscore\", \"SPscore\"]\n",
        "#score_cutoff = 0.4 # @param {type:\"number\"}\n",
        "#d0 = 4.0 # @param {type:\"number\"}\n",
        "#finalgap0 = 0.2 # @param {type:\"number\"}\n",
        "#alpha = 0.3 # @param {type:\"number\"}\n",
        "#coarsecut = -1.0 # @param {type:\"number\"}\n",
        "#segcut = 5.0 # @param {type:\"number\"}\n",
        "fast = True # @param {type:\"boolean\"}\n",
        "trim = True # @param {type:\"boolean\"}\n",
        "\n",
        "if UniProt_ID == \"\" and PDB_ID == \"\":\n",
        "  uploaded = files.upload()\n",
        "  fn = list(uploaded.keys())[0]\n",
        "  !python SPfast/utils/extract_chain.py {fn}\n",
        "  #HACKY WORKAROUND for DSSP - may not be required always\n",
        "  !cat <(echo \"HEADER    SPFAST-SEARCH                           01-JAN-25   1ABC\") {fn} > tmpfile && mv tmpfile {fn}\n",
        "\n",
        "  AFDB_ID = Path(fn).stem\n",
        "elif UniProt_ID != \"\":\n",
        "  AFDB_ID = f'AF-{UniProt_ID}-F1-model_v4'\n",
        "  ![ ! -f {AFDB_ID}.pdb ] && wget https://alphafold.ebi.ac.uk/files/{AFDB_ID}.pdb &> /dev/null\n",
        "  !grep -v \"^DBREF\" {AFDB_ID}.pdb > tmp.pdb && mv tmp.pdb {AFDB_ID}.pdb\n",
        "elif PDB_ID != \"\" and Chain != \"\":\n",
        "  AFDB_ID = f'{PDB_ID}_{Chain}'\n",
        "  ![ ! -f {PDB_ID}.pdb ] && wget https://files.rcsb.org/download/{PDB_ID}.pdb &> /dev/null\n",
        "  !python SPfast/utils/extract_chain.py {PDB_ID}.pdb {Chain}\n",
        "  #HACKY WORKAROUND for DSSP - may not be required always\n",
        "  !cat <(echo \"HEADER    SPFAST-SEARCH                           01-JAN-25   {PDB_ID}\") {AFDB_ID}.pdb > tmpfile && mv tmpfile {AFDB_ID}.pdb\n",
        "\n",
        "![ ! -d {AFDB_ID} ] && mkdir {AFDB_ID}\n",
        "fast_flag = ''\n",
        "sp_flag = ''\n",
        "if fast:\n",
        "  fast_flag = '-fast'\n",
        "\n",
        "if Optimization_objective == 'SPscore':\n",
        "  sp_flag = '-SPscore'\n"
      ]
    },
    {
      "cell_type": "code",
      "execution_count": 8,
      "metadata": {
        "cellView": "form",
        "id": "Q1f2Hj4dS1M0"
      },
      "outputs": [],
      "source": [
        "#@title 4. Prepare query structure\n",
        "%%capture\n",
        "!./mkdssp-4.4.0-linux-x64 \"{AFDB_ID}.pdb\" --output-format=dssp > {AFDB_ID}/{AFDB_ID}.dssp\n",
        "if trim:\n",
        "  !python SPfast/utils/idealize.py <(echo {AFDB_ID}) --dssdir {AFDB_ID}/ --sdir ./ --odir {AFDB_ID}/ --af2model --trim\n",
        "else:\n",
        "  !python SPfast/utils/idealize.py <(echo {AFDB_ID}) --dssdir {AFDB_ID}/ --sdir ./ --odir {AFDB_ID}/ --af2model\n",
        "!./SPfast/src/prepare_bin.gnu -q {AFDB_ID}/{AFDB_ID}.ideal"
      ]
    },
    {
      "cell_type": "code",
      "execution_count": 9,
      "metadata": {
        "cellView": "form",
        "colab": {
          "base_uri": "https://localhost:8080/",
          "height": 533
        },
        "id": "CRtarQfyLLQy",
        "outputId": "616cf4a8-50ac-4799-8a7e-f045b66bf000"
      },
      "outputs": [
        {
          "output_type": "display_data",
          "data": {
            "text/plain": [
              "<IPython.core.display.HTML object>"
            ],
            "text/html": [
              "\n",
              "        <progress\n",
              "            value='100'\n",
              "            max='100',\n",
              "            style='width: 100%'\n",
              "        >\n",
              "            100\n",
              "        </progress>\n",
              "    "
            ]
          },
          "metadata": {}
        },
        {
          "output_type": "stream",
          "name": "stdout",
          "text": [
            "2302899/2302899 structures searched (100.0%)\n"
          ]
        },
        {
          "output_type": "display_data",
          "data": {
            "text/plain": [
              "<IPython.core.display.HTML object>"
            ],
            "text/html": [
              "<table id=\"itables_1219e62e_7483_40b6_a575_1f08a2e19a4e\" class=\"display nowrap\" data-quarto-disable-processing=\"true\" style=\"table-layout:auto;width:auto;margin:auto;caption-side:bottom\">\n",
              "<thead>\n",
              "    <tr style=\"text-align: right;\">\n",
              "      \n",
              "      <th>query</th>\n",
              "      <th>db</th>\n",
              "      <th>score</th>\n",
              "      <th>seqid</th>\n",
              "      <th>q_len</th>\n",
              "      <th>db_len</th>\n",
              "      <th>ali_len</th>\n",
              "    </tr>\n",
              "  </thead><tbody><tr>\n",
              "<td style=\"vertical-align:middle; text-align:left\">\n",
              "<a href=https://mwouts.github.io/itables/><svg class=\"main-svg\" xmlns=\"http://www.w3.org/2000/svg\" xmlns:xlink=\"http://www.w3.org/1999/xlink\"\n",
              "width=\"64\" viewBox=\"0 0 500 400\" style=\"font-family: 'Droid Sans', sans-serif;\">\n",
              "    <g style=\"fill:#d9d7fc\">\n",
              "        <path d=\"M100,400H500V357H100Z\" />\n",
              "        <path d=\"M100,300H400V257H100Z\" />\n",
              "        <path d=\"M0,200H400V157H0Z\" />\n",
              "        <path d=\"M100,100H500V57H100Z\" />\n",
              "        <path d=\"M100,350H500V307H100Z\" />\n",
              "        <path d=\"M100,250H400V207H100Z\" />\n",
              "        <path d=\"M0,150H400V107H0Z\" />\n",
              "        <path d=\"M100,50H500V7H100Z\" />\n",
              "    </g>\n",
              "    <g style=\"fill:#1a1366;stroke:#1a1366;\">\n",
              "   <rect x=\"100\" y=\"7\" width=\"400\" height=\"43\">\n",
              "    <animate\n",
              "      attributeName=\"width\"\n",
              "      values=\"0;400;0\"\n",
              "      dur=\"5s\"\n",
              "      repeatCount=\"indefinite\" />\n",
              "      <animate\n",
              "      attributeName=\"x\"\n",
              "      values=\"100;100;500\"\n",
              "      dur=\"5s\"\n",
              "      repeatCount=\"indefinite\" />\n",
              "  </rect>\n",
              "        <rect x=\"0\" y=\"107\" width=\"400\" height=\"43\">\n",
              "    <animate\n",
              "      attributeName=\"width\"\n",
              "      values=\"0;400;0\"\n",
              "      dur=\"3.5s\"\n",
              "      repeatCount=\"indefinite\" />\n",
              "    <animate\n",
              "      attributeName=\"x\"\n",
              "      values=\"0;0;400\"\n",
              "      dur=\"3.5s\"\n",
              "      repeatCount=\"indefinite\" />\n",
              "  </rect>\n",
              "        <rect x=\"100\" y=\"207\" width=\"300\" height=\"43\">\n",
              "    <animate\n",
              "      attributeName=\"width\"\n",
              "      values=\"0;300;0\"\n",
              "      dur=\"3s\"\n",
              "      repeatCount=\"indefinite\" />\n",
              "    <animate\n",
              "      attributeName=\"x\"\n",
              "      values=\"100;100;400\"\n",
              "      dur=\"3s\"\n",
              "      repeatCount=\"indefinite\" />\n",
              "  </rect>\n",
              "        <rect x=\"100\" y=\"307\" width=\"400\" height=\"43\">\n",
              "    <animate\n",
              "      attributeName=\"width\"\n",
              "      values=\"0;400;0\"\n",
              "      dur=\"4s\"\n",
              "      repeatCount=\"indefinite\" />\n",
              "      <animate\n",
              "      attributeName=\"x\"\n",
              "      values=\"100;100;500\"\n",
              "      dur=\"4s\"\n",
              "      repeatCount=\"indefinite\" />\n",
              "  </rect>\n",
              "        <g style=\"fill:transparent;stroke-width:8; stroke-linejoin:round\" rx=\"5\">\n",
              "            <g transform=\"translate(45 50) rotate(-45)\">\n",
              "                <circle r=\"33\" cx=\"0\" cy=\"0\" />\n",
              "                <rect x=\"-8\" y=\"32\" width=\"16\" height=\"30\" />\n",
              "            </g>\n",
              "\n",
              "            <g transform=\"translate(450 152)\">\n",
              "                <polyline points=\"-15,-20 -35,-20 -35,40 25,40 25,20\" />\n",
              "                <rect x=\"-15\" y=\"-40\" width=\"60\" height=\"60\" />\n",
              "            </g>\n",
              "\n",
              "            <g transform=\"translate(50 352)\">\n",
              "                <polygon points=\"-35,-5 0,-40 35,-5\" />\n",
              "                <polygon points=\"-35,10 0,45 35,10\" />\n",
              "            </g>\n",
              "\n",
              "            <g transform=\"translate(75 250)\">\n",
              "                <polyline points=\"-30,30 -60,0 -30,-30\" />\n",
              "                <polyline points=\"0,30 -30,0 0,-30\" />\n",
              "            </g>\n",
              "\n",
              "            <g transform=\"translate(425 250) rotate(180)\">\n",
              "                <polyline points=\"-30,30 -60,0 -30,-30\" />\n",
              "                <polyline points=\"0,30 -30,0 0,-30\" />\n",
              "            </g>\n",
              "        </g>\n",
              "    </g>\n",
              "</svg>\n",
              "</a>\n",
              "Loading ITables v2.3.0 from the internet...\n",
              "(need <a href=https://mwouts.github.io/itables/troubleshooting.html>help</a>?)</td>\n",
              "</tr></tbody>\n",
              "</table>\n",
              "<link href=\"https://www.unpkg.com/dt_for_itables@2.2.0/dt_bundle.css\" rel=\"stylesheet\">\n",
              "<script type=\"module\">\n",
              "    import {DataTable, jQuery as $} from 'https://www.unpkg.com/dt_for_itables@2.2.0/dt_bundle.js';\n",
              "\n",
              "    document.querySelectorAll(\"#itables_1219e62e_7483_40b6_a575_1f08a2e19a4e:not(.dataTable)\").forEach(table => {\n",
              "        if (!(table instanceof HTMLTableElement))\n",
              "            return;\n",
              "\n",
              "        // Define the table data\n",
              "        const data = [[\"AF-A0A0F2PPL2-F1-model_v4\", \"AF-A0A0F2PPL2-F1-model_v4\", 1.287, 100.0, 141, 141, 141], [\"AF-A0A0F2PPL2-F1-model_v4\", \"AF-B6FZL4-F1-model_v4\", 1.027, 29.8, 141, 131, 116], [\"AF-A0A0F2PPL2-F1-model_v4\", \"AF-A0A3B9SVH7-F1-model_v4\", 0.977, 19.6, 141, 112, 109], [\"AF-A0A0F2PPL2-F1-model_v4\", \"AF-A0A5C5C879-F1-model_v4\", 0.972, 16.8, 141, 125, 119], [\"AF-A0A0F2PPL2-F1-model_v4\", \"AF-A0A6H1WZR2-F1-model_v4\", 0.952, 28.2, 141, 110, 107], [\"AF-A0A0F2PPL2-F1-model_v4\", \"AF-A0A6I1KN48-F1-model_v4\", 0.949, 17.4, 141, 121, 107], [\"AF-A0A0F2PPL2-F1-model_v4\", \"AF-A0A660E1T2-F1-model_v4\", 0.924, 12.3, 141, 122, 112], [\"AF-A0A0F2PPL2-F1-model_v4\", \"AF-A0A356K210-F1-model_v4\", 0.915, 20.6, 141, 126, 106], [\"AF-A0A0F2PPL2-F1-model_v4\", \"AF-A0A846TBU3-F1-model_v4\", 0.891, 10.9, 141, 110, 107], [\"AF-A0A0F2PPL2-F1-model_v4\", \"AF-A0A512DXV9-F1-model_v4\", 0.888, 18.1, 141, 105, 101], [\"AF-A0A0F2PPL2-F1-model_v4\", \"AF-A0A4Q6CUZ2-F1-model_v4\", 0.884, 14.2, 141, 141, 111], [\"AF-A0A0F2PPL2-F1-model_v4\", \"AF-A0A661QEC3-F1-model_v4\", 0.883, 13.7, 141, 124, 106], [\"AF-A0A0F2PPL2-F1-model_v4\", \"AF-A0A5K7Z1Y5-F1-model_v4\", 0.871, 10.6, 141, 141, 111], [\"AF-A0A0F2PPL2-F1-model_v4\", \"AF-A0A849UEG8-F1-model_v4\", 0.862, 16.7, 141, 120, 104], [\"AF-A0A0F2PPL2-F1-model_v4\", \"AF-A0A328IJB1-F1-model_v4\", 0.86, 8.6, 141, 140, 116], [\"AF-A0A0F2PPL2-F1-model_v4\", \"AF-A0A1F3SUP9-F1-model_v4\", 0.859, 16.4, 141, 122, 104], [\"AF-A0A0F2PPL2-F1-model_v4\", \"AF-A0A848HKU4-F1-model_v4\", 0.855, 8.5, 141, 130, 114], [\"AF-A0A0F2PPL2-F1-model_v4\", \"AF-A0A7T1ALK4-F1-model_v4\", 0.846, 18.3, 141, 93, 92], [\"AF-A0A0F2PPL2-F1-model_v4\", \"AF-A0A832NIC1-F1-model_v4\", 0.842, 13.0, 141, 115, 106], [\"AF-A0A0F2PPL2-F1-model_v4\", \"AF-A0A7X4GCC2-F1-model_v4\", 0.838, 11.3, 141, 141, 116], [\"AF-A0A0F2PPL2-F1-model_v4\", \"AF-A0A090WLH5-F1-model_v4\", 0.834, 18.1, 141, 94, 91], [\"AF-A0A0F2PPL2-F1-model_v4\", \"AF-A0A090FHG6-F1-model_v4\", 0.834, 6.4, 141, 240, 95], [\"AF-A0A0F2PPL2-F1-model_v4\", \"AF-A0A843LT59-F1-model_v4\", 0.833, 12.7, 141, 126, 105], [\"AF-A0A0F2PPL2-F1-model_v4\", \"AF-A0A1F6LJY0-F1-model_v4\", 0.832, 16.3, 141, 143, 109], [\"AF-A0A0F2PPL2-F1-model_v4\", \"AF-A5G6U7-F1-model_v4\", 0.831, 7.7, 141, 130, 104], [\"AF-A0A0F2PPL2-F1-model_v4\", \"AF-A0A4Y9RLV5-F1-model_v4\", 0.828, 8.5, 141, 167, 112], [\"AF-A0A0F2PPL2-F1-model_v4\", \"AF-A0A1X1FHM7-F1-model_v4\", 0.825, 6.0, 141, 133, 117], [\"AF-A0A0F2PPL2-F1-model_v4\", \"AF-A0A243W5N2-F1-model_v4\", 0.819, 16.5, 141, 109, 98], [\"AF-A0A0F2PPL2-F1-model_v4\", \"AF-A0A2G6RK41-F1-model_v4\", 0.817, 10.6, 141, 161, 119], [\"AF-A0A0F2PPL2-F1-model_v4\", \"AF-A0A1F6LNL3-F1-model_v4\", 0.81, 20.2, 141, 114, 101], [\"AF-A0A0F2PPL2-F1-model_v4\", \"AF-A0A0U3KCC3-F1-model_v4\", 0.803, 10.9, 141, 138, 106], [\"AF-A0A0F2PPL2-F1-model_v4\", \"AF-A7BUU3-F1-model_v4\", 0.801, 8.3, 141, 108, 97], [\"AF-A0A0F2PPL2-F1-model_v4\", \"AF-A0A0Q4NWM8-F1-model_v4\", 0.8, 9.4, 141, 96, 95], [\"AF-A0A0F2PPL2-F1-model_v4\", \"AF-A0A857IP55-F1-model_v4\", 0.799, 5.7, 141, 166, 115], [\"AF-A0A0F2PPL2-F1-model_v4\", \"AF-A0A522WWK6-F1-model_v4\", 0.797, 10.8, 141, 111, 102], [\"AF-A0A0F2PPL2-F1-model_v4\", \"AF-A0A2N2DD11-F1-model_v4\", 0.794, 7.6, 141, 119, 102], [\"AF-A0A0F2PPL2-F1-model_v4\", \"AF-C8W2H5-F1-model_v4\", 0.788, 20.5, 141, 83, 83], [\"AF-A0A0F2PPL2-F1-model_v4\", \"AF-A0A838W8N5-F1-model_v4\", 0.788, 18.0, 141, 100, 93], [\"AF-A0A0F2PPL2-F1-model_v4\", \"AF-A0A1G1HY41-F1-model_v4\", 0.787, 10.6, 141, 85, 83], [\"AF-A0A0F2PPL2-F1-model_v4\", \"AF-A0A348W1Y5-F1-model_v4\", 0.785, 12.8, 141, 109, 98], [\"AF-A0A0F2PPL2-F1-model_v4\", \"AF-A0A838WGJ4-F1-model_v4\", 0.783, 14.0, 141, 107, 99], [\"AF-A0A0F2PPL2-F1-model_v4\", \"AF-A0A2E2DV16-F1-model_v4\", 0.776, 9.0, 141, 122, 96], [\"AF-A0A0F2PPL2-F1-model_v4\", \"AF-A0A1F9EW62-F1-model_v4\", 0.772, 13.5, 141, 111, 94], [\"AF-A0A0F2PPL2-F1-model_v4\", \"AF-A0A1J4VY18-F1-model_v4\", 0.771, 13.4, 141, 112, 98], [\"AF-A0A0F2PPL2-F1-model_v4\", \"AF-A0A1H4ADW6-F1-model_v4\", 0.77, 6.2, 141, 97, 93], [\"AF-A0A0F2PPL2-F1-model_v4\", \"AF-A0A654A8S2-F1-model_v4\", 0.763, 7.0, 141, 114, 95], [\"AF-A0A0F2PPL2-F1-model_v4\", \"AF-A0A2H9QVF4-F1-model_v4\", 0.761, 19.8, 141, 91, 91], [\"AF-A0A0F2PPL2-F1-model_v4\", \"AF-A0A2D6KDC7-F1-model_v4\", 0.761, 9.0, 141, 122, 108], [\"AF-A0A0F2PPL2-F1-model_v4\", \"AF-A0A7G5Z3K6-F1-model_v4\", 0.76, 8.8, 141, 114, 100], [\"AF-A0A0F2PPL2-F1-model_v4\", \"AF-A0A061P345-F1-model_v4\", 0.76, 8.0, 141, 125, 108], [\"AF-A0A0F2PPL2-F1-model_v4\", \"AF-A0A2G9LPX7-F1-model_v4\", 0.759, 10.0, 141, 110, 104], [\"AF-A0A0F2PPL2-F1-model_v4\", \"AF-A0A5N0KVV1-F1-model_v4\", 0.758, 12.1, 141, 144, 109], [\"AF-A0A0F2PPL2-F1-model_v4\", \"AF-A0A0B5AYN9-F1-model_v4\", 0.758, 12.1, 141, 159, 108], [\"AF-A0A0F2PPL2-F1-model_v4\", \"AF-A0A7J4J8F5-F1-model_v4\", 0.757, 11.4, 141, 105, 101], [\"AF-A0A0F2PPL2-F1-model_v4\", \"AF-A0A1J4UKJ1-F1-model_v4\", 0.755, 6.4, 141, 109, 104], [\"AF-A0A0F2PPL2-F1-model_v4\", \"AF-A0A1H3DB28-F1-model_v4\", 0.751, 10.0, 141, 130, 107], [\"AF-A0A0F2PPL2-F1-model_v4\", \"AF-A0A832WV02-F1-model_v4\", 0.747, 3.8, 141, 104, 97], [\"AF-A0A0F2PPL2-F1-model_v4\", \"AF-A0A7G6E045-F1-model_v4\", 0.74, 9.2, 141, 148, 109], [\"AF-A0A0F2PPL2-F1-model_v4\", \"AF-A0A5E4XHZ9-F1-model_v4\", 0.739, 5.7, 141, 260, 104], [\"AF-A0A0F2PPL2-F1-model_v4\", \"AF-A0A7T0BV03-F1-model_v4\", 0.738, 8.7, 141, 103, 93], [\"AF-A0A0F2PPL2-F1-model_v4\", \"AF-A0A3A4PV08-F1-model_v4\", 0.736, 7.8, 141, 128, 109], [\"AF-A0A0F2PPL2-F1-model_v4\", \"AF-A0A6M1PQP7-F1-model_v4\", 0.734, 7.4, 141, 94, 87], [\"AF-A0A0F2PPL2-F1-model_v4\", \"AF-A0A2G8HR41-F1-model_v4\", 0.733, 12.5, 141, 120, 98], [\"AF-A0A0F2PPL2-F1-model_v4\", \"AF-A0A2G5WVD5-F1-model_v4\", 0.732, 10.6, 141, 147, 109], [\"AF-A0A0F2PPL2-F1-model_v4\", \"AF-A0A2S8A930-F1-model_v4\", 0.73, 14.1, 141, 85, 82], [\"AF-A0A0F2PPL2-F1-model_v4\", \"AF-A0A7R8GF57-F1-model_v4\", 0.727, 8.3, 141, 109, 95], [\"AF-A0A0F2PPL2-F1-model_v4\", \"AF-A0A857JZF3-F1-model_v4\", 0.726, 5.0, 141, 223, 99], [\"AF-A0A0F2PPL2-F1-model_v4\", \"AF-A0A843T8A5-F1-model_v4\", 0.726, 14.3, 141, 77, 76], [\"AF-A0A0F2PPL2-F1-model_v4\", \"AF-A0A553UWP3-F1-model_v4\", 0.724, 6.8, 141, 103, 91], [\"AF-A0A0F2PPL2-F1-model_v4\", \"AF-A0A368AUW6-F1-model_v4\", 0.722, 10.4, 141, 96, 90], [\"AF-A0A0F2PPL2-F1-model_v4\", \"AF-A0A806JXV6-F1-model_v4\", 0.721, 10.3, 141, 107, 92], [\"AF-A0A0F2PPL2-F1-model_v4\", \"AF-A0A1I7LB92-F1-model_v4\", 0.721, 5.7, 141, 196, 102], [\"AF-A0A0F2PPL2-F1-model_v4\", \"AF-A0A2G9XNN8-F1-model_v4\", 0.72, 5.0, 141, 192, 100], [\"AF-A0A0F2PPL2-F1-model_v4\", \"AF-A0A2E4RC94-F1-model_v4\", 0.716, 6.1, 141, 114, 91], [\"AF-A0A0F2PPL2-F1-model_v4\", \"AF-A0A5E9ADD3-F1-model_v4\", 0.715, 4.4, 141, 113, 95], [\"AF-A0A0F2PPL2-F1-model_v4\", \"AF-A0A4U0FBT4-F1-model_v4\", 0.715, 6.6, 141, 122, 105], [\"AF-A0A0F2PPL2-F1-model_v4\", \"AF-A0A6J4NID2-F1-model_v4\", 0.712, 7.1, 141, 113, 97], [\"AF-A0A0F2PPL2-F1-model_v4\", \"AF-A0A538AWV7-F1-model_v4\", 0.712, 5.7, 141, 376, 101], [\"AF-A0A0F2PPL2-F1-model_v4\", \"AF-A0A2D8SSJ5-F1-model_v4\", 0.712, 11.2, 141, 98, 88], [\"AF-A0A0F2PPL2-F1-model_v4\", \"AF-A0A6A7SEI4-F1-model_v4\", 0.711, 6.5, 141, 93, 85], [\"AF-A0A0F2PPL2-F1-model_v4\", \"AF-A0A4Q7LFR6-F1-model_v4\", 0.71, 5.0, 141, 121, 101], [\"AF-A0A0F2PPL2-F1-model_v4\", \"AF-A0A3E0JQT6-F1-model_v4\", 0.709, 8.5, 141, 278, 106], [\"AF-A0A0F2PPL2-F1-model_v4\", \"AF-A0A6I0CB95-F1-model_v4\", 0.706, 6.0, 141, 117, 92], [\"AF-A0A0F2PPL2-F1-model_v4\", \"AF-A0A662KSM9-F1-model_v4\", 0.705, 11.4, 141, 114, 88], [\"AF-A0A0F2PPL2-F1-model_v4\", \"AF-A0A3D5ZAE0-F1-model_v4\", 0.704, 5.6, 141, 124, 91], [\"AF-A0A0F2PPL2-F1-model_v4\", \"AF-K9SSE9-F1-model_v4\", 0.703, 5.0, 141, 318, 101], [\"AF-A0A0F2PPL2-F1-model_v4\", \"AF-A0A1G3ZH13-F1-model_v4\", 0.703, 11.2, 141, 107, 94], [\"AF-A0A0F2PPL2-F1-model_v4\", \"AF-A0A1C0VL60-F1-model_v4\", 0.702, 3.9, 141, 128, 99], [\"AF-A0A0F2PPL2-F1-model_v4\", \"AF-A0A6B0T3A2-F1-model_v4\", 0.7, 8.8, 141, 114, 102], [\"AF-A0A0F2PPL2-F1-model_v4\", \"AF-A0A139CIJ3-F1-model_v4\", 0.7, 17.0, 141, 106, 92], [\"AF-A0A0F2PPL2-F1-model_v4\", \"AF-A0A7X8Q185-F1-model_v4\", 0.697, 8.5, 141, 259, 95], [\"AF-A0A0F2PPL2-F1-model_v4\", \"AF-W9TAY3-F1-model_v4\", 0.696, 7.1, 141, 178, 113], [\"AF-A0A0F2PPL2-F1-model_v4\", \"AF-A0A4Q3LN80-F1-model_v4\", 0.695, 6.1, 141, 131, 99], [\"AF-A0A0F2PPL2-F1-model_v4\", \"AF-A0A838TWD3-F1-model_v4\", 0.694, 7.7, 141, 91, 82], [\"AF-A0A0F2PPL2-F1-model_v4\", \"AF-A0A831J784-F1-model_v4\", 0.694, 8.5, 141, 118, 100], [\"AF-A0A0F2PPL2-F1-model_v4\", \"AF-A0A450ZPV6-F1-model_v4\", 0.694, 12.9, 141, 101, 91], [\"AF-A0A0F2PPL2-F1-model_v4\", \"AF-A0A2E3XWG5-F1-model_v4\", 0.694, 8.4, 141, 107, 94], [\"AF-A0A0F2PPL2-F1-model_v4\", \"AF-E1LR63-F1-model_v4\", 0.693, 18.8, 141, 69, 68], [\"AF-A0A0F2PPL2-F1-model_v4\", \"AF-A0A3A4Q3V7-F1-model_v4\", 0.692, 11.0, 141, 91, 90], [\"AF-A0A0F2PPL2-F1-model_v4\", \"AF-A0A7Y2BLK3-F1-model_v4\", 0.69, 12.5, 141, 88, 84], [\"AF-A0A0F2PPL2-F1-model_v4\", \"AF-A0A521HBE6-F1-model_v4\", 0.69, 11.2, 141, 98, 87], [\"AF-A0A0F2PPL2-F1-model_v4\", \"AF-A0A1C5W5I5-F1-model_v4\", 0.69, 8.8, 141, 125, 97], [\"AF-A0A0F2PPL2-F1-model_v4\", \"AF-A0A3N1XYU1-F1-model_v4\", 0.689, 5.7, 141, 197, 96], [\"AF-A0A0F2PPL2-F1-model_v4\", \"AF-A0A838W0D9-F1-model_v4\", 0.688, 9.0, 141, 89, 87], [\"AF-A0A0F2PPL2-F1-model_v4\", \"AF-A0A7C7QSM7-F1-model_v4\", 0.686, 8.7, 141, 103, 88], [\"AF-A0A0F2PPL2-F1-model_v4\", \"AF-A0A0W1EPL9-F1-model_v4\", 0.686, 5.0, 141, 239, 98], [\"AF-A0A0F2PPL2-F1-model_v4\", \"AF-A0A5C0DLQ1-F1-model_v4\", 0.685, 7.1, 141, 241, 101], [\"AF-A0A0F2PPL2-F1-model_v4\", \"AF-A0A522LXT9-F1-model_v4\", 0.685, 8.7, 141, 103, 87], [\"AF-A0A0F2PPL2-F1-model_v4\", \"AF-A0A2G6AP79-F1-model_v4\", 0.685, 7.8, 141, 203, 111], [\"AF-A0A0F2PPL2-F1-model_v4\", \"AF-A0A6G6ISP8-F1-model_v4\", 0.684, 7.8, 141, 159, 114], [\"AF-A0A0F2PPL2-F1-model_v4\", \"AF-U2BQB2-F1-model_v4\", 0.683, 9.9, 141, 164, 100], [\"AF-A0A0F2PPL2-F1-model_v4\", \"AF-B4W4X9-F1-model_v4\", 0.683, 5.1, 141, 138, 97], [\"AF-A0A0F2PPL2-F1-model_v4\", \"AF-A0A7X9R7T1-F1-model_v4\", 0.683, 7.3, 141, 109, 96], [\"AF-A0A0F2PPL2-F1-model_v4\", \"AF-A0A6M4P5X4-F1-model_v4\", 0.683, 8.5, 141, 106, 89], [\"AF-A0A0F2PPL2-F1-model_v4\", \"AF-A0A1X0DUF5-F1-model_v4\", 0.683, 8.7, 141, 104, 89], [\"AF-A0A0F2PPL2-F1-model_v4\", \"AF-D4FV85-F1-model_v4\", 0.682, 12.1, 141, 195, 111], [\"AF-A0A0F2PPL2-F1-model_v4\", \"AF-A0A352N2M9-F1-model_v4\", 0.682, 7.0, 141, 100, 93], [\"AF-A0A0F2PPL2-F1-model_v4\", \"AF-A0A0G1CUU5-F1-model_v4\", 0.682, 11.6, 141, 121, 93], [\"AF-A0A0F2PPL2-F1-model_v4\", \"AF-A0A1V5ZW51-F1-model_v4\", 0.681, 7.1, 141, 253, 98], [\"AF-A0A0F2PPL2-F1-model_v4\", \"AF-A0A5C7ETP1-F1-model_v4\", 0.68, 6.4, 141, 208, 95], [\"AF-A0A0F2PPL2-F1-model_v4\", \"AF-A0A414NFP5-F1-model_v4\", 0.68, 4.3, 141, 197, 89], [\"AF-A0A0F2PPL2-F1-model_v4\", \"AF-A0A2M7P491-F1-model_v4\", 0.68, 8.0, 141, 87, 83], [\"AF-A0A0F2PPL2-F1-model_v4\", \"AF-A0A1Y4E0U0-F1-model_v4\", 0.68, 3.5, 141, 206, 94], [\"AF-A0A0F2PPL2-F1-model_v4\", \"AF-A0A6G8Q3N6-F1-model_v4\", 0.679, 2.4, 141, 127, 101], [\"AF-A0A0F2PPL2-F1-model_v4\", \"AF-A0A328SGA7-F1-model_v4\", 0.678, 2.4, 141, 125, 89], [\"AF-A0A0F2PPL2-F1-model_v4\", \"AF-A0A1V4WTT8-F1-model_v4\", 0.678, 14.3, 141, 70, 68], [\"AF-A0A0F2PPL2-F1-model_v4\", \"AF-F9U676-F1-model_v4\", 0.677, 10.7, 141, 75, 72], [\"AF-A0A0F2PPL2-F1-model_v4\", \"AF-A0A1G5FJI5-F1-model_v4\", 0.677, 7.8, 141, 201, 86], [\"AF-A0A0F2PPL2-F1-model_v4\", \"AF-A0A0A1HU72-F1-model_v4\", 0.677, 17.4, 141, 69, 69], [\"AF-A0A0F2PPL2-F1-model_v4\", \"AF-F8AP47-F1-model_v4\", 0.676, 6.9, 141, 101, 86], [\"AF-A0A0F2PPL2-F1-model_v4\", \"AF-E4N9C0-F1-model_v4\", 0.676, 3.4, 141, 119, 95], [\"AF-A0A0F2PPL2-F1-model_v4\", \"AF-A0A0P0J5H1-F1-model_v4\", 0.676, 6.7, 141, 119, 97], [\"AF-A0A0F2PPL2-F1-model_v4\", \"AF-A0A3D3WXL3-F1-model_v4\", 0.675, 7.8, 141, 103, 93], [\"AF-A0A0F2PPL2-F1-model_v4\", \"AF-A0A645A7G0-F1-model_v4\", 0.674, 3.2, 141, 124, 92], [\"AF-A0A0F2PPL2-F1-model_v4\", \"AF-A0A2W1N1Z6-F1-model_v4\", 0.672, 6.4, 141, 211, 90], [\"AF-A0A0F2PPL2-F1-model_v4\", \"AF-A0A2E2KJ55-F1-model_v4\", 0.672, 8.4, 141, 83, 77], [\"AF-A0A0F2PPL2-F1-model_v4\", \"AF-A0A0R1Q7I7-F1-model_v4\", 0.672, 25.0, 141, 68, 67], [\"AF-A0A0F2PPL2-F1-model_v4\", \"AF-A0A7C7UDI9-F1-model_v4\", 0.671, 5.0, 141, 139, 113], [\"AF-A0A0F2PPL2-F1-model_v4\", \"AF-A0A2H0R5W1-F1-model_v4\", 0.671, 7.3, 141, 109, 92], [\"AF-A0A0F2PPL2-F1-model_v4\", \"AF-A0A1E7LC55-F1-model_v4\", 0.671, 4.3, 141, 253, 91], [\"AF-A0A0F2PPL2-F1-model_v4\", \"AF-I4IS33-F1-model_v4\", 0.67, 9.9, 141, 91, 86], [\"AF-A0A0F2PPL2-F1-model_v4\", \"AF-A8YJP6-F1-model_v4\", 0.67, 5.3, 141, 114, 94], [\"AF-A0A0F2PPL2-F1-model_v4\", \"AF-A0A823GBV4-F1-model_v4\", 0.67, 3.7, 141, 107, 93], [\"AF-A0A0F2PPL2-F1-model_v4\", \"AF-A0A7V9N4R8-F1-model_v4\", 0.67, 6.4, 141, 176, 106], [\"AF-A0A0F2PPL2-F1-model_v4\", \"AF-A0A4Q2U373-F1-model_v4\", 0.67, 5.0, 141, 101, 93], [\"AF-A0A0F2PPL2-F1-model_v4\", \"AF-A0A819BVS5-F1-model_v4\", 0.669, 6.8, 141, 103, 92], [\"AF-A0A0F2PPL2-F1-model_v4\", \"AF-A0A1F3V814-F1-model_v4\", 0.669, 9.9, 141, 111, 88], [\"AF-A0A0F2PPL2-F1-model_v4\", \"AF-F5L7Q9-F1-model_v4\", 0.668, 5.0, 141, 185, 90], [\"AF-A0A0F2PPL2-F1-model_v4\", \"AF-A0A840F6P7-F1-model_v4\", 0.668, 5.6, 141, 108, 86], [\"AF-A0A0F2PPL2-F1-model_v4\", \"AF-A0A7Z9BXK8-F1-model_v4\", 0.668, 9.8, 141, 92, 80], [\"AF-A0A0F2PPL2-F1-model_v4\", \"AF-A0A2G1PJT0-F1-model_v4\", 0.667, 8.0, 141, 87, 84], [\"AF-A0A0F2PPL2-F1-model_v4\", \"AF-A0A087DTJ2-F1-model_v4\", 0.667, 5.5, 141, 109, 90], [\"AF-A0A0F2PPL2-F1-model_v4\", \"AF-A0A418MKY9-F1-model_v4\", 0.666, 3.5, 141, 186, 93], [\"AF-A0A0F2PPL2-F1-model_v4\", \"AF-A0A5F0K4P0-F1-model_v4\", 0.665, 7.8, 141, 208, 99], [\"AF-A0A0F2PPL2-F1-model_v4\", \"AF-A0A329P8F2-F1-model_v4\", 0.664, 5.0, 141, 140, 103], [\"AF-A0A0F2PPL2-F1-model_v4\", \"AF-A0A1D2RQ03-F1-model_v4\", 0.664, 7.5, 141, 120, 93], [\"AF-A0A0F2PPL2-F1-model_v4\", \"AF-A0A139SPS2-F1-model_v4\", 0.664, 3.7, 141, 136, 103], [\"AF-A0A0F2PPL2-F1-model_v4\", \"AF-Q6F909-F1-model_v4\", 0.663, 7.4, 141, 108, 92], [\"AF-A0A0F2PPL2-F1-model_v4\", \"AF-A0A256FPI8-F1-model_v4\", 0.663, 3.5, 141, 487, 93], [\"AF-A0A0F2PPL2-F1-model_v4\", \"AF-S1N7Q8-F1-model_v4\", 0.661, 8.7, 141, 92, 81], [\"AF-A0A0F2PPL2-F1-model_v4\", \"AF-A0A7R6ZYR8-F1-model_v4\", 0.661, 15.7, 141, 102, 83], [\"AF-A0A0F2PPL2-F1-model_v4\", \"AF-A0A660YMP8-F1-model_v4\", 0.661, 9.9, 141, 91, 88], [\"AF-A0A0F2PPL2-F1-model_v4\", \"AF-A0A3N9PB27-F1-model_v4\", 0.661, 6.2, 141, 129, 101], [\"AF-A0A0F2PPL2-F1-model_v4\", \"AF-A0A1F6HXA2-F1-model_v4\", 0.66, 11.1, 141, 126, 102], [\"AF-A0A0F2PPL2-F1-model_v4\", \"AF-A0A506PK91-F1-model_v4\", 0.659, 3.5, 141, 191, 91], [\"AF-A0A0F2PPL2-F1-model_v4\", \"AF-A0A349JEC3-F1-model_v4\", 0.659, 6.1, 141, 99, 82], [\"AF-A0A0F2PPL2-F1-model_v4\", \"AF-A0A6I2FZ05-F1-model_v4\", 0.658, 6.5, 141, 93, 86], [\"AF-A0A0F2PPL2-F1-model_v4\", \"AF-A0A2N5DYF9-F1-model_v4\", 0.658, 4.3, 141, 236, 93], [\"AF-A0A0F2PPL2-F1-model_v4\", \"AF-A0A6N6LJD8-F1-model_v4\", 0.656, 7.8, 141, 116, 95], [\"AF-A0A0F2PPL2-F1-model_v4\", \"AF-A0A645FAN8-F1-model_v4\", 0.655, 11.9, 141, 84, 83], [\"AF-A0A0F2PPL2-F1-model_v4\", \"AF-A0A414P0N0-F1-model_v4\", 0.654, 6.1, 141, 131, 97], [\"AF-A0A0F2PPL2-F1-model_v4\", \"AF-A0A3A6K9D1-F1-model_v4\", 0.654, 7.8, 141, 234, 95], [\"AF-A0A0F2PPL2-F1-model_v4\", \"AF-A0A0C2IX32-F1-model_v4\", 0.654, 8.3, 141, 108, 96], [\"AF-A0A0F2PPL2-F1-model_v4\", \"AF-A0A840V5F4-F1-model_v4\", 0.653, 8.6, 141, 93, 85], [\"AF-A0A0F2PPL2-F1-model_v4\", \"AF-A0A0P9EK33-F1-model_v4\", 0.653, 8.5, 141, 94, 87], [\"AF-A0A0F2PPL2-F1-model_v4\", \"AF-S0FFF2-F1-model_v4\", 0.652, 5.4, 141, 92, 83], [\"AF-A0A0F2PPL2-F1-model_v4\", \"AF-A0A078KU43-F1-model_v4\", 0.652, 0.8, 141, 129, 89], [\"AF-A0A0F2PPL2-F1-model_v4\", \"AF-A0A7V5Y6Y3-F1-model_v4\", 0.651, 4.6, 141, 87, 82], [\"AF-A0A0F2PPL2-F1-model_v4\", \"AF-A0A509EHV9-F1-model_v4\", 0.651, 9.9, 141, 71, 69], [\"AF-A0A0F2PPL2-F1-model_v4\", \"AF-A0A1G4X322-F1-model_v4\", 0.651, 5.0, 141, 80, 77], [\"AF-A0A0F2PPL2-F1-model_v4\", \"AF-A0A1C4YU55-F1-model_v4\", 0.651, 5.7, 141, 122, 88], [\"AF-A0A0F2PPL2-F1-model_v4\", \"AF-A0A7W9E693-F1-model_v4\", 0.65, 3.5, 141, 238, 99], [\"AF-A0A0F2PPL2-F1-model_v4\", \"AF-A0A7K1SM09-F1-model_v4\", 0.65, 9.8, 141, 132, 96], [\"AF-A0A0F2PPL2-F1-model_v4\", \"AF-A0A7C4YFH6-F1-model_v4\", 0.65, 8.8, 141, 137, 86], [\"AF-A0A0F2PPL2-F1-model_v4\", \"AF-A0A1C6FF03-F1-model_v4\", 0.65, 7.1, 141, 98, 83], [\"AF-A0A0F2PPL2-F1-model_v4\", \"AF-A0A7W2M8W3-F1-model_v4\", 0.649, 8.5, 141, 129, 96], [\"AF-A0A0F2PPL2-F1-model_v4\", \"AF-A0A1Q9XPL8-F1-model_v4\", 0.649, 8.5, 141, 766, 101], [\"AF-A0A0F2PPL2-F1-model_v4\", \"AF-A0A8A9HPE6-F1-model_v4\", 0.648, 6.6, 141, 137, 95], [\"AF-A0A0F2PPL2-F1-model_v4\", \"AF-A0A2P7QFC4-F1-model_v4\", 0.648, 5.7, 141, 221, 93], [\"AF-A0A0F2PPL2-F1-model_v4\", \"AF-A0A6N8Z741-F1-model_v4\", 0.647, 7.1, 141, 113, 93], [\"AF-A0A0F2PPL2-F1-model_v4\", \"AF-A0A3A8QW64-F1-model_v4\", 0.647, 14.5, 141, 83, 80], [\"AF-A0A0F2PPL2-F1-model_v4\", \"AF-A0A4R5MTK3-F1-model_v4\", 0.646, 4.9, 141, 82, 79], [\"AF-A0A0F2PPL2-F1-model_v4\", \"AF-A0A378VJT0-F1-model_v4\", 0.646, 4.4, 141, 136, 92], [\"AF-A0A0F2PPL2-F1-model_v4\", \"AF-A0A2T2U8Q9-F1-model_v4\", 0.646, 7.7, 141, 104, 84], [\"AF-A0A0F2PPL2-F1-model_v4\", \"AF-A0A1M6Q803-F1-model_v4\", 0.646, 9.5, 141, 95, 82], [\"AF-A0A0F2PPL2-F1-model_v4\", \"AF-D0RHH0-F1-model_v4\", 0.645, 11.3, 141, 106, 90], [\"AF-A0A0F2PPL2-F1-model_v4\", \"AF-A0Y8T7-F1-model_v4\", 0.645, 6.1, 141, 131, 89], [\"AF-A0A0F2PPL2-F1-model_v4\", \"AF-A0A0P8A2Y9-F1-model_v4\", 0.645, 6.8, 141, 103, 88], [\"AF-A0A0F2PPL2-F1-model_v4\", \"AF-A0A037Z8U1-F1-model_v4\", 0.645, 8.0, 141, 88, 74], [\"AF-A0A0F2PPL2-F1-model_v4\", \"AF-A0A3T0UZT6-F1-model_v4\", 0.644, 8.9, 141, 90, 86]];\n",
              "\n",
              "        // Define the dt_args\n",
              "        let dt_args = {\"order\": [[2]], \"lengthMenu\": [10, 20, 100], \"layout\": {\"topStart\": \"pageLength\", \"topEnd\": \"search\", \"bottomStart\": \"info\", \"bottomEnd\": \"paging\"}, \"warn_on_selected_rows_not_rendered\": true};\n",
              "        dt_args[\"data\"] = data;\n",
              "\n",
              "        \n",
              "        new DataTable(table, dt_args);\n",
              "    });\n",
              "</script>\n"
            ]
          },
          "metadata": {}
        }
      ],
      "source": [
        "#@title 5. Search AFDB-clusters database\n",
        "#@markdown Table shows **top 200** hits during search - *full results available for download*\n",
        "import pandas as pd\n",
        "from math import ceil\n",
        "from itables import show\n",
        "from IPython.display import clear_output, HTML, display\n",
        "\n",
        "def display_dat(fn):\n",
        "  with open(fn) as f:\n",
        "    df = pd.read_csv(f, delimiter=' ', names=['query', 'db', 'score', 'raw', 'ss_prefilter', 'q_len', 'db_len', 'eff_len', 'seqid', 'ali_len', 'seeds', 'pass_seeds', 'seg_score'])\n",
        "  show(df[['query', 'db', 'score', 'seqid', 'q_len', 'db_len', 'ali_len']], order=[[2]], maxBytes=0, lengthMenu=[10, 20, 100])\n",
        "\n",
        "def progress(value, max=100):\n",
        "    return HTML(\"\"\"\n",
        "        <progress\n",
        "            value='{value}'\n",
        "            max='{max}',\n",
        "            style='width: 100%'\n",
        "        >\n",
        "            {value}\n",
        "        </progress>\n",
        "    \"\"\".format(value=value, max=max))\n",
        "\n",
        "![ -f {AFDB_ID}/{AFDB_ID}.sp1 ] && rm {AFDB_ID}/{AFDB_ID}.sp1\n",
        "![ -f {AFDB_ID}/display.sp1 ] && rm {AFDB_ID}/display.sp1\n",
        "![ -f {AFDB_ID}/tmp1.sp1 ] && rm {AFDB_ID}/tmp1.sp1\n",
        "out = display(progress(0, 100), display_id=True)\n",
        "\n",
        "total_size = 2302899\n",
        "#shard_size=20000\n",
        "shard_size = ceil(total_size/200)\n",
        "\n",
        "i0=0\n",
        "!touch {AFDB_ID}/display.sp1\n",
        "while i0<total_size:\n",
        "  batchstart=i0\n",
        "  batchend=min(i0+shard_size, total_size)\n",
        "\n",
        "  # Run search\n",
        "  !SPfast/src/SPfast.gnu -q {AFDB_ID}/{AFDB_ID}.ideal.bin -tdb afdb-clu.db -batchstart {batchstart} -batchend {batchend} {sp_flag} {fast_flag} -ssprefcut -1. | sed 's/\\.ideal\\.bin//g' | sed 's/\\.ideal//g' > {AFDB_ID}/tmp1.sp1\n",
        "\n",
        "  # Top 200 to display\n",
        "  !cat {AFDB_ID}/tmp1.sp1 >> {AFDB_ID}/{AFDB_ID}.sp1\n",
        "  !cat {AFDB_ID}/tmp1.sp1 {AFDB_ID}/display.sp1 | sort -rnk3 | head -n200 > {AFDB_ID}/tmp2.sp1\n",
        "  !mv {AFDB_ID}/tmp2.sp1 {AFDB_ID}/display.sp1\n",
        "\n",
        "  # Update display\n",
        "  clear_output()\n",
        "  out.update(progress(min(100, 100*(batchend)/total_size), 100))\n",
        "  print(f\"{batchend}/{total_size} structures searched ({round(100*batchend/total_size,2)}%)\")\n",
        "  display_dat(f'{AFDB_ID}/display.sp1')\n",
        "  i0+=shard_size\n",
        "  #break #for testing\n",
        "\n",
        "# Return entire output\n",
        "!sort -rnk3 {AFDB_ID}/{AFDB_ID}.sp1 -o {AFDB_ID}/{AFDB_ID}.txt\n",
        "\n"
      ]
    },
    {
      "cell_type": "code",
      "execution_count": 11,
      "metadata": {
        "cellView": "form",
        "id": "cNQ9VoCUoLg8",
        "colab": {
          "base_uri": "https://localhost:8080/",
          "height": 17
        },
        "outputId": "4e2df047-63c4-45fe-eed0-abbc9db96406"
      },
      "outputs": [
        {
          "output_type": "display_data",
          "data": {
            "text/plain": [
              "<IPython.core.display.Javascript object>"
            ],
            "application/javascript": [
              "\n",
              "    async function download(id, filename, size) {\n",
              "      if (!google.colab.kernel.accessAllowed) {\n",
              "        return;\n",
              "      }\n",
              "      const div = document.createElement('div');\n",
              "      const label = document.createElement('label');\n",
              "      label.textContent = `Downloading \"${filename}\": `;\n",
              "      div.appendChild(label);\n",
              "      const progress = document.createElement('progress');\n",
              "      progress.max = size;\n",
              "      div.appendChild(progress);\n",
              "      document.body.appendChild(div);\n",
              "\n",
              "      const buffers = [];\n",
              "      let downloaded = 0;\n",
              "\n",
              "      const channel = await google.colab.kernel.comms.open(id);\n",
              "      // Send a message to notify the kernel that we're ready.\n",
              "      channel.send({})\n",
              "\n",
              "      for await (const message of channel.messages) {\n",
              "        // Send a message to notify the kernel that we're ready.\n",
              "        channel.send({})\n",
              "        if (message.buffers) {\n",
              "          for (const buffer of message.buffers) {\n",
              "            buffers.push(buffer);\n",
              "            downloaded += buffer.byteLength;\n",
              "            progress.value = downloaded;\n",
              "          }\n",
              "        }\n",
              "      }\n",
              "      const blob = new Blob(buffers, {type: 'application/binary'});\n",
              "      const a = document.createElement('a');\n",
              "      a.href = window.URL.createObjectURL(blob);\n",
              "      a.download = filename;\n",
              "      div.appendChild(a);\n",
              "      a.click();\n",
              "      div.remove();\n",
              "    }\n",
              "  "
            ]
          },
          "metadata": {}
        },
        {
          "output_type": "display_data",
          "data": {
            "text/plain": [
              "<IPython.core.display.Javascript object>"
            ],
            "application/javascript": [
              "download(\"download_4fdc052a-6d3f-47d8-bde0-99ee15165161\", \"AF-A0A0F2PPL2-F1-model_v4.txt\", 49719190)"
            ]
          },
          "metadata": {}
        }
      ],
      "source": [
        "#@title 6. Download result file\n",
        "#%%capture\n",
        "files.download(f\"{AFDB_ID}/{AFDB_ID}.txt\")"
      ]
    }
  ],
  "metadata": {
    "colab": {
      "provenance": []
    },
    "kernelspec": {
      "display_name": "Python 3",
      "name": "python3"
    },
    "language_info": {
      "name": "python"
    }
  },
  "nbformat": 4,
  "nbformat_minor": 0
}